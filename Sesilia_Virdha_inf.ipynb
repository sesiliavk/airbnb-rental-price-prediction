{
 "cells": [
  {
   "cell_type": "code",
   "execution_count": 1,
   "id": "22c0973f",
   "metadata": {},
   "outputs": [],
   "source": [
    "#import libraries\n",
    "\n",
    "import pickle\n",
    "import pandas as pd"
   ]
  },
  {
   "cell_type": "code",
   "execution_count": 2,
   "id": "2f6c1489",
   "metadata": {},
   "outputs": [],
   "source": [
    "with open('model_best.pkl', 'rb') as model_file:\n",
    "    model = pickle.load(model_file)"
   ]
  },
  {
   "cell_type": "code",
   "execution_count": null,
   "id": "2a12bad6",
   "metadata": {},
   "outputs": [],
   "source": [
    "new_data = {\n",
    "    'room_type': 'Private room',           \n",
    "    'room_shared': 0,                      \n",
    "    'room_private': 1,                     # 1 jika kamar pribadi, 0 jika tidak\n",
    "    'person_capacity': 2,                  # kapasitas tamu\n",
    "    'host_is_superhost': 1,                # 1 jika superhost, 0 jika tidak\n",
    "    'multi': 0,                            # 1 jika properti multilist, 0 jika tidak\n",
    "    'biz': 0,                              # 1 jika untuk bisnis, 0 jika tidak\n",
    "    'cleanliness_rating': 8.0,             # skala kebersihan (biasanya 1-10)\n",
    "    'guest_satisfaction_overall': 95,      # kepuasan tamu (1-100)\n",
    "    'bedrooms': 1,                         # jumlah kamar tidur\n",
    "    'dist': 5.022964,                           # jarak dari pusat kota (misalnya dalam km)\n",
    "    'metro_dist': 3.651621,                     # jarak ke stasiun metro\n",
    "    'attr_index': 78.690379,                     # indeks kedekatan ke atraksi wisata\n",
    "    'attr_index_norm': 3.933908,                # nilai normalisasi dari attr_index\n",
    "    'rest_index': 98.913816,                     # indeks kedekatan ke restoran\n",
    "    'rest_index_norm': 6.148730,                # nilai normalisasi dari rest_index\n",
    "    'lng': 4.27417,                         # longitude\n",
    "    'lat': 52.37113                        # latitude\n",
    "}"
   ]
  },
  {
   "cell_type": "code",
   "execution_count": 5,
   "id": "cec15a53",
   "metadata": {},
   "outputs": [
    {
     "data": {
      "text/html": [
       "<div>\n",
       "<style scoped>\n",
       "    .dataframe tbody tr th:only-of-type {\n",
       "        vertical-align: middle;\n",
       "    }\n",
       "\n",
       "    .dataframe tbody tr th {\n",
       "        vertical-align: top;\n",
       "    }\n",
       "\n",
       "    .dataframe thead th {\n",
       "        text-align: right;\n",
       "    }\n",
       "</style>\n",
       "<table border=\"1\" class=\"dataframe\">\n",
       "  <thead>\n",
       "    <tr style=\"text-align: right;\">\n",
       "      <th></th>\n",
       "      <th>room_type</th>\n",
       "      <th>room_shared</th>\n",
       "      <th>room_private</th>\n",
       "      <th>person_capacity</th>\n",
       "      <th>host_is_superhost</th>\n",
       "      <th>multi</th>\n",
       "      <th>biz</th>\n",
       "      <th>cleanliness_rating</th>\n",
       "      <th>guest_satisfaction_overall</th>\n",
       "      <th>bedrooms</th>\n",
       "      <th>dist</th>\n",
       "      <th>metro_dist</th>\n",
       "      <th>attr_index</th>\n",
       "      <th>attr_index_norm</th>\n",
       "      <th>rest_index</th>\n",
       "      <th>rest_index_norm</th>\n",
       "      <th>lng</th>\n",
       "      <th>lat</th>\n",
       "    </tr>\n",
       "  </thead>\n",
       "  <tbody>\n",
       "    <tr>\n",
       "      <th>0</th>\n",
       "      <td>Private room</td>\n",
       "      <td>0</td>\n",
       "      <td>1</td>\n",
       "      <td>2</td>\n",
       "      <td>1</td>\n",
       "      <td>0</td>\n",
       "      <td>0</td>\n",
       "      <td>8.0</td>\n",
       "      <td>95</td>\n",
       "      <td>1</td>\n",
       "      <td>5.022964</td>\n",
       "      <td>3.651621</td>\n",
       "      <td>78.690379</td>\n",
       "      <td>3.933908</td>\n",
       "      <td>98.913816</td>\n",
       "      <td>6.14873</td>\n",
       "      <td>4.27417</td>\n",
       "      <td>52.37113</td>\n",
       "    </tr>\n",
       "  </tbody>\n",
       "</table>\n",
       "</div>"
      ],
      "text/plain": [
       "      room_type  room_shared  room_private  person_capacity  \\\n",
       "0  Private room            0             1                2   \n",
       "\n",
       "   host_is_superhost  multi  biz  cleanliness_rating  \\\n",
       "0                  1      0    0                 8.0   \n",
       "\n",
       "   guest_satisfaction_overall  bedrooms      dist  metro_dist  attr_index  \\\n",
       "0                          95         1  5.022964    3.651621   78.690379   \n",
       "\n",
       "   attr_index_norm  rest_index  rest_index_norm      lng       lat  \n",
       "0         3.933908   98.913816          6.14873  4.27417  52.37113  "
      ]
     },
     "execution_count": 5,
     "metadata": {},
     "output_type": "execute_result"
    }
   ],
   "source": [
    "data_inf = pd.DataFrame([new_data])\n",
    "data_inf"
   ]
  },
  {
   "cell_type": "code",
   "execution_count": 6,
   "id": "e361f63f",
   "metadata": {},
   "outputs": [
    {
     "data": {
      "text/plain": [
       "array([258.56476], dtype=float32)"
      ]
     },
     "execution_count": 6,
     "metadata": {},
     "output_type": "execute_result"
    }
   ],
   "source": [
    "y_predfe_1 = model.predict(data_inf)\n",
    "y_predfe_1"
   ]
  },
  {
   "cell_type": "markdown",
   "id": "687b00f3",
   "metadata": {},
   "source": [
    "Maka didapatkan harga 258 euro untuk airbnb dengan kriteria diatas"
   ]
  }
 ],
 "metadata": {
  "kernelspec": {
   "display_name": "base",
   "language": "python",
   "name": "python3"
  },
  "language_info": {
   "codemirror_mode": {
    "name": "ipython",
    "version": 3
   },
   "file_extension": ".py",
   "mimetype": "text/x-python",
   "name": "python",
   "nbconvert_exporter": "python",
   "pygments_lexer": "ipython3",
   "version": "3.9.21"
  }
 },
 "nbformat": 4,
 "nbformat_minor": 5
}
